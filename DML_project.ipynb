{
 "cells": [
  {
   "cell_type": "code",
   "execution_count": 1,
   "id": "be4f9e52",
   "metadata": {},
   "outputs": [
    {
     "name": "stdout",
     "output_type": "stream",
     "text": [
      "Please provide your Kaggle credentials to download this dataset. Learn more: http://bit.ly/kaggle-creds\n",
      "Your Kaggle username: jakobbruchhausen\n",
      "Your Kaggle Key: ········\n",
      "Downloading flickr-image-dataset.zip to .\\flickr-image-dataset\n"
     ]
    },
    {
     "name": "stderr",
     "output_type": "stream",
     "text": [
      "100%|█████████████████████████████████████████████████████████████████████████████████████████████████████████████████████████████████| 8.16G/8.16G [05:16<00:00, 27.7MB/s]\n"
     ]
    },
    {
     "name": "stdout",
     "output_type": "stream",
     "text": [
      "\n"
     ]
    }
   ],
   "source": [
    "import opendatasets as od\n",
    "od.download(\"https://www.kaggle.com/hsankesara/flickr-image-dataset/code\")"
   ]
  },
  {
   "cell_type": "code",
   "execution_count": 2,
   "id": "4453fbf3",
   "metadata": {},
   "outputs": [],
   "source": [
    "import numpy as np\n",
    "from sklearn.model_selection import train_test_split\n",
    "from pathlib import Path"
   ]
  },
  {
   "cell_type": "code",
   "execution_count": 17,
   "id": "b3214a26",
   "metadata": {},
   "outputs": [],
   "source": [
    "all_img_path = Path.cwd() / \"flickr-image-dataset/flickr30k_images\"\n",
    "all_img_filenames = list(all_img_path.glob(\"*.jpg\"))\n",
    "train_filenames, testval_filenames = train_test_split(all_img_filenames, test_size=0.2, random_state=1)\n",
    "val_filenames, test_filenames = train_test_split(testval_filenames, test_size=0.5, random_state=1)\n",
    "\n",
    "subdirectories = {\"flickr-image-dataset/train\": train_filenames,\n",
    "                  \"flickr-image-dataset/val\": val_filenames,\n",
    "                  \"flickr-image-dataset/test\": test_filenames,\n",
    "                 }\n",
    "\n"
   ]
  }
 ],
 "metadata": {
  "kernelspec": {
   "display_name": "Python 3 (ipykernel)",
   "language": "python",
   "name": "python3"
  },
  "language_info": {
   "codemirror_mode": {
    "name": "ipython",
    "version": 3
   },
   "file_extension": ".py",
   "mimetype": "text/x-python",
   "name": "python",
   "nbconvert_exporter": "python",
   "pygments_lexer": "ipython3",
   "version": "3.7.11"
  }
 },
 "nbformat": 4,
 "nbformat_minor": 5
}
